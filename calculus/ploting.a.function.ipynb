{
 "cells": [
  {
   "cell_type": "code",
   "execution_count": null,
   "metadata": {},
   "outputs": [],
   "source": [
    "import matplotlib.pyplot as plt # for plotting\n",
    "import numpy as np # for linspace and some math functions\n",
    "import sympy as sp # for symbolic math\n",
    "from sympy.abc import x # import the variable x\n",
    "from sympy import sympify, lambdify # import the sympify and lambdify functions\n",
    "\n",
    "fig, ax = plt.subplots() # create a figure and an axis\n",
    "\n",
    "# set up axis \n",
    "ax.spines['left'].set_position('zero') \n",
    "ax.spines['right'].set_color('none') \n",
    "ax.spines['bottom'].set_position('zero') \n",
    "ax.spines['top'].set_color('none') \n",
    "ax.xaxis.set_ticks_position('bottom') \n",
    "ax.yaxis.set_ticks_position('left') \n",
    "\n",
    "# define the x values - will have about 1000 points\n",
    "xx = np.arange(-8,12,0.01) \n",
    "\n",
    "# draw my curve \n",
    "f=sympify(1/(x-2))\n",
    "lf=lambdify(x,f,'numpy')\n",
    "ax.plot(xx, lf(xx)) \n",
    "\n",
    "# plot the vertical fuction asymptotes -to cover the whole plot\n",
    "# clean under the aympototes\n",
    "ax.plot([2,2],[-5,5],color='white')\n",
    "ax.plot([2,2],[-5,5],color='red',linestyle='dashed', linewidth=2)\n",
    "\n",
    "#set bounds - IMPORTANT: have to be set after the plot is drawn\n",
    "ax.set_xbound(-8,12)\n",
    "ax.set_ybound(-5,5)\n",
    "plt.show()"
   ]
  }
 ],
 "metadata": {
  "kernelspec": {
   "display_name": "Python 3",
   "language": "python",
   "name": "python3"
  },
  "language_info": {
   "name": "python",
   "version": "3.10.6"
  },
  "orig_nbformat": 4,
  "vscode": {
   "interpreter": {
    "hash": "916dbcbb3f70747c44a77c7bcd40155683ae19c65e1c03b4aa3499c5328201f1"
   }
  }
 },
 "nbformat": 4,
 "nbformat_minor": 2
}
