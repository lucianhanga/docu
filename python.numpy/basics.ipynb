{
 "cells": [
  {
   "attachments": {},
   "cell_type": "markdown",
   "metadata": {},
   "source": [
    "# NumPy Quickstart Tutorial"
   ]
  },
  {
   "attachments": {},
   "cell_type": "markdown",
   "metadata": {},
   "source": [
    "### Prepare the environment\n",
    "\n",
    "```python\n",
    "python3 -m venv venv\n",
    "source venv/bin/activate\n",
    "python -m pip install  numpy\n",
    "python -m pip install matplotlib\n",
    "```"
   ]
  },
  {
   "attachments": {},
   "cell_type": "markdown",
   "metadata": {},
   "source": [
    "### The very basics\n",
    "\n",
    "NumPy’s main object is the homogeneous multidimensional array.<br>\n",
    "`[1,2,3]` - is an array of rank 1, it’s a vector. has one axis.<br>\n",
    "`[[1,2,3,4],[4,5,6,9]]` - is an array of rank 2, it’s a matrix. Ithat has two axes. The first axis has a length of 2, the second axis has a length of 4.<br>\n",
    "`[[[1,2,3],[4,5,6]],[[1,2,3],[4,5,6]]]` - is an array of rank 3, it’s a 3-tensor.\n",
    "\n",
    "\n"
   ]
  },
  {
   "cell_type": "code",
   "execution_count": 139,
   "metadata": {},
   "outputs": [],
   "source": [
    "# import the whole numpy module\n",
    "import numpy as np"
   ]
  },
  {
   "attachments": {},
   "cell_type": "markdown",
   "metadata": {},
   "source": [
    "### Important attributes of an ndarray object"
   ]
  },
  {
   "cell_type": "code",
   "execution_count": null,
   "metadata": {},
   "outputs": [],
   "source": [
    "# create a numpy array - the last argument is the data type and is optional\n",
    "arry1 = np.array([[1, 2, 3, 4], [5, 6,7, 8], [9,10,11,12]], dtype=np.float64)\n",
    "\n",
    "# print the array\n",
    "print(arry1)\n",
    "\n",
    "# print the shape of the array\n",
    "print('array shape: ', arry1.shape) # 3 rows, 4 columns\n",
    "\n",
    "# print the type of the array\n",
    "print('array type: ', type(arry1))\n",
    "\n",
    "# print the data type of the array\n",
    "print('array data type: ' , arry1.dtype)\n",
    "\n",
    "# print the number of dimensions of the array\n",
    "print('dimensions: ' , arry1.ndim)\n",
    "\n",
    "# array size\n",
    "print('array size: ' , arry1.size) # all elements\n",
    "\n",
    "# array item size\n",
    "print('array item size: ' , arry1.itemsize) # bytes per element\n",
    "\n",
    "# array data\n",
    "print('array data: ' , arry1.data) # buffer containing the actual elements of the array"
   ]
  },
  {
   "attachments": {},
   "cell_type": "markdown",
   "metadata": {},
   "source": [
    "### Creating arrays\n"
   ]
  },
  {
   "cell_type": "code",
   "execution_count": null,
   "metadata": {},
   "outputs": [],
   "source": [
    "# create a numpy array of zeros\n",
    "print(np.zeros((3,4,2,4))) # 3 rows, 4 columns, 2 layers, 4 elements\n",
    "\n",
    "# create a numpy array of ones\n",
    "print(np.ones((3,4))) # 3 rows, 4 columns\n",
    "\n",
    "# empty array\n",
    "np.empty((2,3)) # uninitialized, output may vary\n"
   ]
  },
  {
   "cell_type": "code",
   "execution_count": null,
   "metadata": {},
   "outputs": [],
   "source": [
    "print(np.arange(10, 30, 5)) # start, stop, step\n",
    "print(np.arange(0, 2, 0.3)) # it accepts float arguments\n",
    "print(np.linspace(0, 1, 12)) # start, stop, number of samples\n"
   ]
  },
  {
   "cell_type": "code",
   "execution_count": null,
   "metadata": {},
   "outputs": [],
   "source": [
    "x = np.linspace(0, np.pi, 12)\n",
    "f = np.sin(x)\n",
    "np.set_printoptions(precision=3, suppress=True)\n",
    "print(x)\n",
    "print(f)\n"
   ]
  },
  {
   "attachments": {},
   "cell_type": "markdown",
   "metadata": {},
   "source": [
    "### reshaping arrays"
   ]
  },
  {
   "cell_type": "code",
   "execution_count": null,
   "metadata": {},
   "outputs": [],
   "source": [
    "arr1 = np.arange(1000)\n",
    "print(arr1)"
   ]
  },
  {
   "cell_type": "code",
   "execution_count": null,
   "metadata": {},
   "outputs": [],
   "source": [
    "arr2 = arr1.reshape(10, 100) # 10 rows, 100 columns\n",
    "print(arr2)"
   ]
  },
  {
   "cell_type": "code",
   "execution_count": null,
   "metadata": {},
   "outputs": [],
   "source": [
    "arr3 = arr1.reshape(10, 10, 10) # 10 layers, 10 rows, 10 columns\n",
    "print(arr3)"
   ]
  },
  {
   "attachments": {},
   "cell_type": "markdown",
   "metadata": {},
   "source": [
    "### Basic Operations on arrays"
   ]
  },
  {
   "cell_type": "code",
   "execution_count": null,
   "metadata": {},
   "outputs": [],
   "source": [
    "a = np.arange(12)\n",
    "print(a)\n",
    "b = np.arange(10,130, 10)\n",
    "print(b)\n",
    "c = a + b\n",
    "print(c)"
   ]
  },
  {
   "cell_type": "code",
   "execution_count": null,
   "metadata": {},
   "outputs": [],
   "source": [
    "a = np.array([[1,2,3], [4,5,6], [7,8,9]])\n",
    "# horizontal element-wise multiplication\n",
    "b = np.array([1,2,3])\n",
    "print(a)\n",
    "print(b)\n",
    "c = a * b # element-wise multiplication\n",
    "print(c)\n",
    "\n",
    "c = a/2 # element-wise division\n",
    "print(c)\n",
    "\n",
    "# vertical element-wise multiplication\n",
    "b = b.reshape(3,1)\n",
    "print(b)\n",
    "c = a * b # element-wise multiplication\n",
    "print(c)\n",
    "\n",
    "# matrix multiplication - cartesian product\n",
    "c = a.dot(b)\n",
    "# c = a@b # alternative \n",
    "print(c)\n",
    "\n"
   ]
  },
  {
   "attachments": {},
   "cell_type": "markdown",
   "metadata": {},
   "source": [
    "### Random numbers"
   ]
  },
  {
   "cell_type": "code",
   "execution_count": null,
   "metadata": {},
   "outputs": [],
   "source": [
    "rg = np.random.default_rng(1) # create instance of default random number generator\n",
    "\n",
    "a = np.ones(10, dtype=int)\n",
    "print(a)\n",
    "\n",
    "b = rg.random(10)\n",
    "print(b)\n",
    "\n",
    "b+=a\n",
    "print(b)\n"
   ]
  },
  {
   "attachments": {},
   "cell_type": "markdown",
   "metadata": {},
   "source": [
    "### Other operations on elements of an array\n",
    "\n",
    "the dimmensions of the array are called axes. The number of axes is called rank.\n",
    "3 dimensions - 3 axes - 3 rank\n",
    "axis 0 - rows\n",
    "axis 1 - columns\n",
    "axis 2 - depth\n",
    "axis 3 - ..."
   ]
  },
  {
   "cell_type": "code",
   "execution_count": null,
   "metadata": {},
   "outputs": [],
   "source": [
    "a = np.arange(12).reshape(3,4)\n",
    "print(a)\n",
    "b = a.cumsum(axis=1) # cumulative sum along each row\n",
    "print(b)\n",
    "c = a.cumsum(axis=0) # cumulative sum along each column\n",
    "print(c)\n",
    "print(a.sum(axis=0)) # sum of each column\n",
    "print(a.min(axis=0)) # sum of each column"
   ]
  },
  {
   "attachments": {},
   "cell_type": "markdown",
   "metadata": {},
   "source": [
    "### Indexing and slicing"
   ]
  },
  {
   "cell_type": "code",
   "execution_count": null,
   "metadata": {},
   "outputs": [],
   "source": [
    "a = np.arange(12)\n",
    "print(a)\n",
    "print(a[2])\n",
    "print(a[2:5]) # up to but not including 5\n",
    "\n",
    "b = a[:2] # from beginning to 2 (not including 2)\n",
    "print(b)\n",
    "\n",
    "c = a[2:] # from 2 to end\n",
    "print(c)\n",
    "\n",
    "print(a[-1]) # last element\n",
    "\n",
    "d  =a \n",
    "d[:8:2] = 100 # from beginning to 8 (not including 8) with step 2\n",
    "print(d)\n",
    "\n",
    "a_rev = a[::-1] # reverse the array\n",
    "print(a_rev)\n"
   ]
  },
  {
   "attachments": {},
   "cell_type": "markdown",
   "metadata": {},
   "source": [
    "### Indexing and slicing 2 dimensions"
   ]
  },
  {
   "cell_type": "code",
   "execution_count": null,
   "metadata": {},
   "outputs": [],
   "source": [
    "a = np.arange(36).reshape(6,6)\n",
    "print(a)\n",
    "\n",
    "# select second row\n",
    "b = a[1]\n",
    "print(b)\n",
    "\n",
    "# select second column\n",
    "c = a[:,1]\n",
    "print(c)\n",
    "\n",
    "# select second row, second column\n",
    "print(a[1,1])\n",
    "\n",
    "# second column to fourth column\n",
    "d = a[:,1:4]\n",
    "print(d)\n",
    "\n",
    "# select the last row \n",
    "print(a[-1])\n",
    "\n",
    "# select the las column\n",
    "print(a[:,-1])\n"
   ]
  },
  {
   "attachments": {},
   "cell_type": "markdown",
   "metadata": {},
   "source": [
    "### Indexing and slicing 3 dimensions"
   ]
  },
  {
   "cell_type": "code",
   "execution_count": null,
   "metadata": {},
   "outputs": [],
   "source": [
    "a = np.arange(18).reshape(2,3,3) # 2 layers, 3 rows, 3 columns\n",
    "print(a)\n",
    "print(a.shape) # 2 layers, 3 rows, 3 columns\n",
    "print(a.ndim) # number of dimensions\n",
    "print(a[0,:,:]) # second layer\n",
    "\n",
    "print(a.flatten()) # return a copy of the array collapsed into one dimension\n",
    "\n",
    "iter = a.flat # return an iterator over the array\n",
    "print(next(iter))\n",
    "      \n",
    "\n",
    "\n"
   ]
  },
  {
   "attachments": {},
   "cell_type": "markdown",
   "metadata": {},
   "source": [
    "### Generate an array using a function"
   ]
  },
  {
   "cell_type": "code",
   "execution_count": null,
   "metadata": {},
   "outputs": [],
   "source": [
    "a = np.fromfunction(lambda i, j: i == j, (3, 3), dtype=int) # create a 3x3 identity matrix\n",
    "print(a)"
   ]
  },
  {
   "attachments": {},
   "cell_type": "markdown",
   "metadata": {},
   "source": [
    "### Stack arrays"
   ]
  },
  {
   "cell_type": "code",
   "execution_count": null,
   "metadata": {},
   "outputs": [],
   "source": [
    "a = np.arange(12).reshape(2,6)\n",
    "print(a)\n",
    "b = np.arange(12,24).reshape(2,6)\n",
    "print(b)\n",
    "\n",
    "c = np.vstack((a,b)) # vertical stack\n",
    "print(c)\n",
    "\n",
    "d = np.hstack((a,b)) # horizontal stack\n",
    "print(d)\n"
   ]
  },
  {
   "cell_type": "code",
   "execution_count": null,
   "metadata": {},
   "outputs": [],
   "source": [
    "a = np.arange(24).reshape(2,12)\n",
    "print(a)\n",
    "\n",
    "# split the array int two subarrays along the second axis\n",
    "b = np.hsplit(a, 3)\n",
    "print(b)\n",
    "\n",
    "# split the array int two subarrays along the first axis\n",
    "c,d = np.vsplit(a, 2)\n",
    "print(c.flatten())\n",
    "print(d.flatten())\n"
   ]
  },
  {
   "cell_type": "code",
   "execution_count": null,
   "metadata": {},
   "outputs": [],
   "source": [
    "c = np.arange(12).reshape(3,4)\n",
    "a = c.copy() # a deep copy of the array\n"
   ]
  },
  {
   "attachments": {},
   "cell_type": "markdown",
   "metadata": {},
   "source": [
    "### Indexing with arrays of indices"
   ]
  },
  {
   "cell_type": "code",
   "execution_count": null,
   "metadata": {},
   "outputs": [],
   "source": [
    "arr = np.arange(100)*2\n",
    "print(arr)\n",
    "\n",
    "# define an array of indices\n",
    "index_arr = np.array([1, 3, 5, 7, 9])\n",
    "\n",
    "# filter the array using the indices\n",
    "filtered_arr = arr[index_arr]\n",
    "print(filtered_arr)\n"
   ]
  },
  {
   "cell_type": "code",
   "execution_count": null,
   "metadata": {},
   "outputs": [],
   "source": [
    "# two dimensional array example\n",
    "\n",
    "# a color palette\n",
    "palette = np.array( [[0, 0, 0], # black\n",
    "                     [255, 0, 0], # red\n",
    "                     [0, 255, 0], # green\n",
    "                     [0, 0, 255], # blue\n",
    "                     [255, 255, 255]] ) # white\n",
    "\n",
    "# image - an 3d array of 8 bit unsigned integers - indexed colors\n",
    "rg = np.random.default_rng(1) # create instance of default random number generator\n",
    "r_indexes = rg.integers(0, 5, size=(10, 10)) # 10x10 array of random integers between 0 and 5 - indexes of the palette\n",
    "print(r_indexes)\n",
    "# convert the indexes to colors\n",
    "print(palette[r_indexes])\n"
   ]
  },
  {
   "attachments": {},
   "cell_type": "markdown",
   "metadata": {},
   "source": [
    "### Ordering elements of an array and return the sorted elements indices"
   ]
  },
  {
   "cell_type": "code",
   "execution_count": 171,
   "metadata": {},
   "outputs": [
    {
     "name": "stdout",
     "output_type": "stream",
     "text": [
      "[0.045 0.037 0.894 0.709 0.11  0.6   0.807 0.119 0.472 0.676 0.191 0.71\n",
      " 0.681 0.922 0.191 0.09  0.435 0.238 0.126 0.84  0.965 0.563 0.309 0.622\n",
      " 0.762 0.649 0.34  0.366 0.695 0.178 0.065 0.29  0.93  0.404 0.778 0.298\n",
      " 0.861 0.722 0.978 0.474 0.261 0.45  0.096 0.237 0.028 0.136 0.418 0.921\n",
      " 0.052 0.13  0.824 0.898 0.068 0.095 0.987 0.517 0.044 0.665 0.867 0.276\n",
      " 0.672 0.307 0.827 0.169 0.712 0.027 0.98  0.786 0.738 0.875 0.775 0.724\n",
      " 0.382 0.017 0.886 0.426 0.287 0.235 0.885 0.063 0.78  0.007 0.149 0.449\n",
      " 0.01  0.302 0.304 0.309 0.399 0.523 0.667 0.494 0.865 0.565 0.834 0.481\n",
      " 0.892 0.42  0.106 0.27  0.469 0.298 0.199 0.746 0.71  0.125 0.271 0.457\n",
      " 0.661 0.237 0.05  0.805 0.709 0.396 0.047 0.976 0.616 0.777 0.908 0.388]\n",
      "54\n",
      "[ 54  66  38 115  20  32  13  47 118  51   2  96  74  78  69  58  92  36\n",
      "  19  94  62  50   6 111  67  80  34 117  70  24 103  68  71  37  64  11\n",
      " 104 112   3  28  12   9  60  90  57 108  25  23 116   5  93  21  89  55\n",
      "  91  95  39   8 100 107  41  83  16  75  97  46  33  88 113 119  72  27\n",
      "  26  22  87  61  86  85 101  35  31  76  59 106  99  40  17  43 109  77\n",
      " 102  10  14  29  63  82  45  49  18 105   7   4  98  42  53  15  52  30\n",
      "  79  48 110 114   0  56   1  44  65  73  84  81]\n",
      "[0.987 0.98  0.978 0.976 0.965 0.93  0.922 0.921 0.908 0.898 0.894 0.892\n",
      " 0.886 0.885 0.875 0.867 0.865 0.861 0.84  0.834 0.827 0.824 0.807 0.805\n",
      " 0.786 0.78  0.778 0.777 0.775 0.762 0.746 0.738 0.724 0.722 0.712 0.71\n",
      " 0.71  0.709 0.709 0.695 0.681 0.676 0.672 0.667 0.665 0.661 0.649 0.622\n",
      " 0.616 0.6   0.565 0.563 0.523 0.517 0.494 0.481 0.474 0.472 0.469 0.457\n",
      " 0.45  0.449 0.435 0.426 0.42  0.418 0.404 0.399 0.396 0.388 0.382 0.366\n",
      " 0.34  0.309 0.309 0.307 0.304 0.302 0.298 0.298 0.29  0.287 0.276 0.271\n",
      " 0.27  0.261 0.238 0.237 0.237 0.235 0.199 0.191 0.191 0.178 0.169 0.149\n",
      " 0.136 0.13  0.126 0.125 0.119 0.11  0.106 0.096 0.095 0.09  0.068 0.065\n",
      " 0.063 0.052 0.05  0.047 0.045 0.044 0.037 0.028 0.027 0.017 0.01  0.007]\n"
     ]
    }
   ],
   "source": [
    "import time # import time module\n",
    "rg = np.random.default_rng(int(time.time()*10000000)) # initialize the random number generator with the current time in nanoseconds\n",
    "\n",
    "# populate an array with random numbers\n",
    "result = rg.random(120)\n",
    "print(result)\n",
    "\n",
    "# get the index of the maximum value\n",
    "i_max = result.argmax()\n",
    "print(i_max)\n",
    "\n",
    "# order the array and return the indexes of the sorted array\n",
    "ordered_indexes = result.argsort()\n",
    "ordered_indexes = ordered_indexes[::-1] # reverse the array\n",
    "print(ordered_indexes)\n",
    "\n",
    "# print the sorted result matrix\n",
    "print(result[ordered_indexes])"
   ]
  },
  {
   "attachments": {},
   "cell_type": "markdown",
   "metadata": {},
   "source": [
    "### Boolean Arrays"
   ]
  },
  {
   "cell_type": "code",
   "execution_count": 190,
   "metadata": {},
   "outputs": [
    {
     "name": "stdout",
     "output_type": "stream",
     "text": [
      "[ 2 12 23 17 88 27 84 25 13 41 75 14 30 86 32 55 10 89 21 90 96  1 47 42\n",
      " 78 67 17 10  1  2 36 78 68 48 85 42 66 68 49 97 33 52  3 59  2 84 31 55\n",
      " 31  4 42 14 87 54 62 52 19 43 43  9 40 59 65 55 67 74 43 42 13 17 16 69\n",
      " 53 54  1 40 80 61 75  0 72 70 29 67 76 21  1 17 30 34 48 58  1 98 33 88\n",
      " 31 61 44  8]\n",
      "[ True  True False False  True False  True False False False False  True\n",
      "  True  True  True False  True False False  True  True False False  True\n",
      "  True False False  True False  True  True  True  True  True False  True\n",
      "  True  True False False False  True False False  True  True False False\n",
      " False  True  True  True False  True  True  True False False False False\n",
      "  True False False False False  True False  True False False  True False\n",
      " False  True False  True  True False False  True  True  True False False\n",
      "  True False False False  True  True  True  True False  True False  True\n",
      " False False  True  True]\n",
      "[ 0  0 23 17  0 27  0 25 13 41 75  0  0  0  0 55  0 89 21  0  0  1 47  0\n",
      "  0 67 17  0  1  0  0  0  0  0 85  0  0  0 49 97 33  0  3 59  0  0 31 55\n",
      " 31  0  0  0 87  0  0  0 19 43 43  9  0 59 65 55 67  0 43  0 13 17  0 69\n",
      " 53  0  1  0  0 61 75  0  0  0 29 67  0 21  1 17  0  0  0  0  1  0 33  0\n",
      " 31 61  0  0]\n",
      "[ 2 12  0  0 88  0 84  0  0  0  0 14 30 86 32  0 10  0  0 90 96  0  0 42\n",
      " 78  0  0 10  0  2 36 78 68 48  0 42 66 68  0  0  0 52  0  0  2 84  0  0\n",
      "  0  4 42 14  0 54 62 52  0  0  0  0 40  0  0  0  0 74  0 42  0  0 16  0\n",
      "  0 54  0 40 80  0  0  0 72 70  0  0 76  0  0  0 30 34 48 58  0 98  0 88\n",
      "  0  0 44  8]\n"
     ]
    }
   ],
   "source": [
    "ng = np.random.default_rng(time.time_ns()) # initialize the random number generator with the current time in nanoseconds\n",
    "values = ng.integers(0, 100, size=100) # create an array of 100 random integers between 0 and 100\n",
    "values.reshape(10,10) # reshape the array to 10x10\n",
    "print(values)\n",
    "\n",
    "# find out the even numbers\n",
    "evens = values % 2 == 0\n",
    "print(evens)\n",
    "\n",
    "# all the odd elements become 0\n",
    "values_odds = values.copy()\n",
    "values_odds[evens] = 0\n",
    "print(values_odds)\n",
    "\n",
    "# find all odd elements\n",
    "odds = evens == False\n",
    "# all the even elements become 0\n",
    "values_evens = values.copy()\n",
    "values_evens[odds] = 0\n",
    "print(values_evens)\n",
    "\n"
   ]
  },
  {
   "attachments": {},
   "cell_type": "markdown",
   "metadata": {},
   "source": [
    "# Using boolean arrays to select elements"
   ]
  },
  {
   "cell_type": "code",
   "execution_count": 224,
   "metadata": {},
   "outputs": [
    {
     "name": "stdout",
     "output_type": "stream",
     "text": [
      "[[  0   1   2   3   4   5   6   7   8   9  10  11]\n",
      " [ 12  13  14  15  16  17  18  19  20  21  22  23]\n",
      " [ 24  25  26  27  28  29  30  31  32  33  34  35]\n",
      " [ 36  37  38  39  40  41  42  43  44  45  46  47]\n",
      " [ 48  49  50  51  52  53  54  55  56  57  58  59]\n",
      " [ 60  61  62  63  64  65  66  67  68  69  70  71]\n",
      " [ 72  73  74  75  76  77  78  79  80  81  82  83]\n",
      " [ 84  85  86  87  88  89  90  91  92  93  94  95]\n",
      " [ 96  97  98  99 100 101 102 103 104 105 106 107]\n",
      " [108 109 110 111 112 113 114 115 116 117 118 119]]\n",
      "[[  0   1   2   3   4   5   6   7   8   9  10  11]\n",
      " [ 24  25  26  27  28  29  30  31  32  33  34  35]\n",
      " [ 48  49  50  51  52  53  54  55  56  57  58  59]\n",
      " [ 72  73  74  75  76  77  78  79  80  81  82  83]\n",
      " [ 96  97  98  99 100 101 102 103 104 105 106 107]]\n",
      "[[  0   2   4   6   8  10]\n",
      " [ 12  14  16  18  20  22]\n",
      " [ 24  26  28  30  32  34]\n",
      " [ 36  38  40  42  44  46]\n",
      " [ 48  50  52  54  56  58]\n",
      " [ 60  62  64  66  68  70]\n",
      " [ 72  74  76  78  80  82]\n",
      " [ 84  86  88  90  92  94]\n",
      " [ 96  98 100 102 104 106]\n",
      " [108 110 112 114 116 118]]\n"
     ]
    }
   ],
   "source": [
    "a = np.arange(120).reshape(10,12)\n",
    "print(a)\n",
    "b = np.array([ True, False, True, False, True, False, True, False, True, False])\n",
    "d = np.array([ True, False, True, False, True, False, True, False, True, False, True, False])\n",
    "# select the rows where the corresponding element in b is True\n",
    "c = a[b, :]\n",
    "print(c)\n",
    "# select the columns where the corresponding element in d is True\n",
    "c = a[:, d]\n",
    "print(c) \n",
    "\n",
    "\n"
   ]
  },
  {
   "attachments": {},
   "cell_type": "markdown",
   "metadata": {},
   "source": [
    "### Automatic reshaping"
   ]
  },
  {
   "cell_type": "code",
   "execution_count": 227,
   "metadata": {},
   "outputs": [
    {
     "name": "stdout",
     "output_type": "stream",
     "text": [
      "[[[ 0  1  2]\n",
      "  [ 3  4  5]\n",
      "  [ 6  7  8]\n",
      "  [ 9 10 11]\n",
      "  [12 13 14]]\n",
      "\n",
      " [[15 16 17]\n",
      "  [18 19 20]\n",
      "  [21 22 23]\n",
      "  [24 25 26]\n",
      "  [27 28 29]]]\n",
      "(2, 5, 3)\n"
     ]
    }
   ],
   "source": [
    "a = np.arange(30).reshape(2, -1, 3)\n",
    "print(a)\n",
    "print(a.shape) #  2 layers, 5 rows, 3 columns or 2x5x3 or axis0 = 2, axis1 = 5, axis2 = 3"
   ]
  },
  {
   "attachments": {},
   "cell_type": "markdown",
   "metadata": {},
   "source": [
    "### Madelbrot set"
   ]
  },
  {
   "cell_type": "code",
   "execution_count": 214,
   "metadata": {},
   "outputs": [
    {
     "data": {
      "text/plain": [
       "<matplotlib.image.AxesImage at 0x7fdd7c61a700>"
      ]
     },
     "execution_count": 214,
     "metadata": {},
     "output_type": "execute_result"
    },
    {
     "data": {
      "image/png": "[encoded data removed]",
      "text/plain": [
       "<Figure size 640x480 with 1 Axes>"
      ]
     },
     "metadata": {},
     "output_type": "display_data"
    }
   ],
   "source": [
    "import matplotlib.pyplot as plt # import matplotlib\n",
    "import numpy as np # import numpy\n",
    "\n",
    "def mandelbrot( h,w, maxit=20, r=2.0):\n",
    "    '''Returns an image of the Mandelbrot fractal of size (h,w).'''\n",
    "    # define x coordinates as a linear space between -2.0 and 1.0\n",
    "    x = np.linspace(-2.0,1.0, 4*h+1)\n",
    "    # define thje y coordinates as a linear space between -1.5 and 1.5\n",
    "    y = np.linspace(-1.5,1.5, 3*w+1)\n",
    "    # define A, B as a meshgrid of x and y\n",
    "    A, B = np.meshgrid(x,y)\n",
    "    C = A + B*1j # define C as a complex number\n",
    "    z = np.zeros_like(C) # create an array of zeros with the same shape as C\n",
    "    divtime = maxit + np.zeros(z.shape, dtype=int) # create an array of maxit with the same shape as z\n",
    "\n",
    "    for i in range(maxit):\n",
    "        z = z**2 + C\n",
    "        diverge = abs(z) > r # who is diverging\n",
    "        diverge_now = diverge & (divtime == maxit)  # who is diverging now\n",
    "        divtime[diverge_now] = i # note when\n",
    "        z[diverge] = r # avoid diverging too much\n",
    "    \n",
    "    # print(divtime)\n",
    "    return divtime\n",
    "      \n",
    "        \n",
    "# plot the mandelbrot fractal\n",
    "plt.clf() # clear the current figure\n",
    "plt.imshow(mandelbrot(400,400), cmap='hot') # plot the mandelbrot fractal"
   ]
  }
 ],
 "metadata": {
  "kernelspec": {
   "display_name": "Python 3",
   "language": "python",
   "name": "python3"
  },
  "language_info": {
   "codemirror_mode": {
    "name": "ipython",
    "version": 3
   },
   "file_extension": ".py",
   "mimetype": "text/x-python",
   "name": "python",
   "nbconvert_exporter": "python",
   "pygments_lexer": "ipython3",
   "version": "3.9.2"
  },
  "orig_nbformat": 4,
  "vscode": {
   "interpreter": {
    "hash": "31f2aee4e71d21fbe5cf8b01ff0e069b9275f58929596ceb00d14d90e3e16cd6"
   }
  }
 },
 "nbformat": 4,
 "nbformat_minor": 2
}
